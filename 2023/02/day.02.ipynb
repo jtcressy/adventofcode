{
  "nbformat": 4,
  "nbformat_minor": 0,
  "metadata": {
    "colab": {
      "provenance": [],
      "authorship_tag": "ABX9TyOWFh/LxVd9ESXIXW1hcKcf",
      "include_colab_link": true
    },
    "kernelspec": {
      "name": "python3",
      "display_name": "Python 3"
    },
    "language_info": {
      "name": "python"
    }
  },
  "cells": [
    {
      "cell_type": "markdown",
      "metadata": {
        "id": "view-in-github",
        "colab_type": "text"
      },
      "source": [
        "<a href=\"https://colab.research.google.com/github/jtcressy/adventofcode/blob/main/2023/02/day.02.ipynb\" target=\"_parent\"><img src=\"https://colab.research.google.com/assets/colab-badge.svg\" alt=\"Open In Colab\"/></a>"
      ]
    },
    {
      "cell_type": "code",
      "source": [
        "# @title Setup & Grab Puzzle Data\n",
        "!pip install -q 'advent-of-code-data[nb]'\n",
        "import pandas as pd\n",
        "%reload_ext google.colab.data_table\n",
        "from IPython.display import display, Markdown, HTML\n",
        "from google.colab import userdata\n",
        "from aocd.models import User,Puzzle\n",
        "from aocd.examples import Page\n",
        "import bs4\n",
        "import datetime\n",
        "date = \"2023-12-02\" # @param {type:\"date\"}\n",
        "dt = datetime.datetime.strptime(date, '%Y-%m-%d')\n",
        "puzzle = Puzzle(day=dt.day, year=dt.year, user=User(token=userdata.get('aoc_session')))\n",
        "display(Markdown(f'# [Day {puzzle.day}: {puzzle.title}]({puzzle.url})'))\n",
        "def get_prose(p):\n",
        "  return next((path.read_text(encoding=\"utf-8\") for path in (p.prose2_path, p.prose1_path, p.prose0_path) if path.is_file()), None)\n"
      ],
      "metadata": {
        "id": "JJd42gGCFnrp",
        "colab": {
          "base_uri": "https://localhost:8080/",
          "height": 74
        },
        "outputId": "ef74295d-af45-47ad-aa98-f12e19b06911"
      },
      "execution_count": 1,
      "outputs": [
        {
          "output_type": "display_data",
          "data": {
            "text/plain": [
              "<IPython.core.display.Markdown object>"
            ],
            "text/markdown": "# [Day 2: Cube Conundrum](https://adventofcode.com/2023/day/2)"
          },
          "metadata": {}
        }
      ]
    },
    {
      "cell_type": "code",
      "source": [
        "# @title Part A\n",
        "try:\n",
        "  answer_a = puzzle.answer_a\n",
        "except:\n",
        "  pass\n",
        "article_a = Page.from_raw(get_prose(puzzle)).article_a\n",
        "display(HTML(article_a.prettify()))"
      ],
      "metadata": {
        "id": "33Er0d4g2M-L",
        "colab": {
          "base_uri": "https://localhost:8080/",
          "height": 410
        },
        "outputId": "c10385ba-4ffa-44e2-b3eb-6c5f28bf239a"
      },
      "execution_count": 10,
      "outputs": [
        {
          "output_type": "display_data",
          "data": {
            "text/plain": [
              "<IPython.core.display.HTML object>"
            ],
            "text/html": [
              "<article class=\"day-desc\">\n",
              " <h2>\n",
              "  --- Day 2: Cube Conundrum ---\n",
              " </h2>\n",
              " <p>\n",
              "  You're launched high into the atmosphere! The apex of your trajectory just barely reaches the surface of a large island floating in the sky. You gently land in a fluffy pile of leaves. It's quite cold, but you don't see much snow. An Elf runs over to greet you.\n",
              " </p>\n",
              " <p>\n",
              "  The Elf explains that you've arrived at\n",
              "  <em>\n",
              "   Snow Island\n",
              "  </em>\n",
              "  and apologizes for the lack of snow. He'll be happy to explain the situation, but it's a bit of a walk, so you have some time. They don't get many visitors up here;\n",
              "  <span title=\"No, the Elf's name is not 'WOPR'. It's Joshua.\">\n",
              "   would you like to play a game\n",
              "  </span>\n",
              "  in the meantime?\n",
              " </p>\n",
              " <p>\n",
              "  As you walk, the Elf shows you a small bag and some cubes which are either red, green, or blue. Each time you play this game, he will hide a secret number of cubes of each color in the bag, and your goal is to figure out information about the number of cubes.\n",
              " </p>\n",
              " <p>\n",
              "  To get information, once a bag has been loaded with cubes, the Elf will reach into the bag, grab a handful of random cubes, show them to you, and then put them back in the bag. He'll do this a few times per game.\n",
              " </p>\n",
              " <p>\n",
              "  You play several games and record the information from each game (your puzzle input). Each game is listed with its ID number (like the\n",
              "  <code>\n",
              "   11\n",
              "  </code>\n",
              "  in\n",
              "  <code>\n",
              "   Game 11: ...\n",
              "  </code>\n",
              "  ) followed by a semicolon-separated list of subsets of cubes that were revealed from the bag (like\n",
              "  <code>\n",
              "   3 red, 5 green, 4 blue\n",
              "  </code>\n",
              "  ).\n",
              " </p>\n",
              " <p>\n",
              "  For example, the record of a few games might look like this:\n",
              " </p>\n",
              " <pre><code>Game 1: 3 blue, 4 red; 1 red, 2 green, 6 blue; 2 green\n",
              "Game 2: 1 blue, 2 green; 3 green, 4 blue, 1 red; 1 green, 1 blue\n",
              "Game 3: 8 green, 6 blue, 20 red; 5 blue, 4 red, 13 green; 5 green, 1 red\n",
              "Game 4: 1 green, 3 red, 6 blue; 3 green, 6 red; 3 green, 15 blue, 14 red\n",
              "Game 5: 6 red, 1 blue, 3 green; 2 blue, 1 red, 2 green\n",
              "</code></pre>\n",
              " <p>\n",
              "  In game 1, three sets of cubes are revealed from the bag (and then put back again). The first set is 3 blue cubes and 4 red cubes; the second set is 1 red cube, 2 green cubes, and 6 blue cubes; the third set is only 2 green cubes.\n",
              " </p>\n",
              " <p>\n",
              "  The Elf would first like to know which games would have been possible if the bag contained\n",
              "  <em>\n",
              "   only 12 red cubes, 13 green cubes, and 14 blue cubes\n",
              "  </em>\n",
              "  ?\n",
              " </p>\n",
              " <p>\n",
              "  In the example above, games 1, 2, and 5 would have been\n",
              "  <em>\n",
              "   possible\n",
              "  </em>\n",
              "  if the bag had been loaded with that configuration. However, game 3 would have been\n",
              "  <em>\n",
              "   impossible\n",
              "  </em>\n",
              "  because at one point the Elf showed you 20 red cubes at once; similarly, game 4 would also have been\n",
              "  <em>\n",
              "   impossible\n",
              "  </em>\n",
              "  because the Elf showed you 15 blue cubes at once. If you add up the IDs of the games that would have been possible, you get\n",
              "  <code>\n",
              "   <em>\n",
              "    8\n",
              "   </em>\n",
              "  </code>\n",
              "  .\n",
              " </p>\n",
              " <p>\n",
              "  Determine which games would have been possible if the bag had been loaded with only 12 red cubes, 13 green cubes, and 14 blue cubes.\n",
              "  <em>\n",
              "   What is the sum of the IDs of those games?\n",
              "  </em>\n",
              " </p>\n",
              "</article>\n"
            ]
          },
          "metadata": {}
        }
      ]
    },
    {
      "cell_type": "code",
      "source": [
        "# @title Display an Example\n",
        "index = 0\n",
        "print(puzzle.examples[index].input_data)\n",
        "print(\"answer: \", puzzle.examples[index].answer_a)"
      ],
      "metadata": {
        "cellView": "form",
        "id": "Dm4gkwMgznzU",
        "colab": {
          "base_uri": "https://localhost:8080/"
        },
        "outputId": "ebd86954-5086-4164-8312-22db7818d0d2"
      },
      "execution_count": 3,
      "outputs": [
        {
          "output_type": "stream",
          "name": "stdout",
          "text": [
            "Game 1: 3 blue, 4 red; 1 red, 2 green, 6 blue; 2 green\n",
            "Game 2: 1 blue, 2 green; 3 green, 4 blue, 1 red; 1 green, 1 blue\n",
            "Game 3: 8 green, 6 blue, 20 red; 5 blue, 4 red, 13 green; 5 green, 1 red\n",
            "Game 4: 1 green, 3 red, 6 blue; 3 green, 6 red; 3 green, 15 blue, 14 red\n",
            "Game 5: 6 red, 1 blue, 3 green; 2 blue, 1 red, 2 green\n",
            "answer:  8\n"
          ]
        }
      ]
    },
    {
      "cell_type": "code",
      "source": [
        "# @title Solution A\n",
        "# reminder: pull the problem's input data from puzzle.input_data\n",
        "\n",
        "import regex as re\n",
        "\n",
        "def solution_a() -> int:\n",
        "  possible_red = 12\n",
        "  possible_green = 13\n",
        "  possible_blue = 14\n",
        "  total = 0\n",
        "  for game in puzzle.input_data.splitlines():\n",
        "    id = int(next(re.finditer(re.compile('^Game (\\d+):'), game)).group(1))\n",
        "    possible = True\n",
        "    for round in game.split(':')[1].split(';'):\n",
        "      blue = next((int(m) for m in re.findall(re.compile('(\\d+) blue'), round)), 0)\n",
        "      green = next((int(m) for m in re.findall(re.compile('(\\d+) green'), round)), 0)\n",
        "      red = next((int(m) for m in re.findall(re.compile('(\\d+) red'), round)), 0)\n",
        "      if any((blue > possible_blue, green > possible_green, red > possible_red)):\n",
        "        possible = False\n",
        "    if possible:\n",
        "      total += id\n",
        "  print(\"answer: \", total)\n",
        "  return total\n",
        "\n",
        "solution_a()"
      ],
      "metadata": {
        "colab": {
          "base_uri": "https://localhost:8080/"
        },
        "id": "VfMYSjEuHz_d",
        "outputId": "6a9c7552-fc08-47c1-ab95-a9c1cc5cb3e6"
      },
      "execution_count": 4,
      "outputs": [
        {
          "output_type": "stream",
          "name": "stdout",
          "text": [
            "answer:  2776\n"
          ]
        },
        {
          "output_type": "execute_result",
          "data": {
            "text/plain": [
              "2776"
            ]
          },
          "metadata": {},
          "execution_count": 4
        }
      ]
    },
    {
      "cell_type": "code",
      "source": [
        "# @title Submit A\n",
        "puzzle.answer_a = solution_a()"
      ],
      "metadata": {
        "id": "8Dqx0kF6J5bT",
        "colab": {
          "base_uri": "https://localhost:8080/"
        },
        "outputId": "e70d2784-0fb1-4065-8c6d-ec6726671002"
      },
      "execution_count": 5,
      "outputs": [
        {
          "output_type": "stream",
          "name": "stdout",
          "text": [
            "answer:  2776\n"
          ]
        }
      ]
    },
    {
      "cell_type": "code",
      "source": [
        "# @title Part B\n",
        "try:\n",
        "  answer_b = puzzle.answer_b\n",
        "except:\n",
        "  pass\n",
        "article_b = Page.from_raw(get_prose(puzzle)).b_raw\n",
        "display(HTML(article_b))"
      ],
      "metadata": {
        "id": "fOJJgmaF26wa",
        "colab": {
          "base_uri": "https://localhost:8080/",
          "height": 386
        },
        "outputId": "86e3a047-4094-461b-868d-6ec574c71b2a"
      },
      "execution_count": 11,
      "outputs": [
        {
          "output_type": "display_data",
          "data": {
            "text/plain": [
              "<IPython.core.display.HTML object>"
            ],
            "text/html": [
              "<article class=\"day-desc\"><h2 id=\"part2\">--- Part Two ---</h2><p>The Elf says they've stopped producing snow because they aren't getting any <em>water</em>! He isn't sure why the water stopped; however, he can show you how to get to the water source to check it out for yourself. It's just up ahead!</p>\n",
              "<p>As you continue your walk, the Elf poses a second question: in each game you played, what is the <em>fewest number of cubes of each color</em> that could have been in the bag to make the game possible?</p>\n",
              "<p>Again consider the example games from earlier:</p>\n",
              "<pre><code>Game 1: 3 blue, 4 red; 1 red, 2 green, 6 blue; 2 green\n",
              "Game 2: 1 blue, 2 green; 3 green, 4 blue, 1 red; 1 green, 1 blue\n",
              "Game 3: 8 green, 6 blue, 20 red; 5 blue, 4 red, 13 green; 5 green, 1 red\n",
              "Game 4: 1 green, 3 red, 6 blue; 3 green, 6 red; 3 green, 15 blue, 14 red\n",
              "Game 5: 6 red, 1 blue, 3 green; 2 blue, 1 red, 2 green\n",
              "</code></pre>\n",
              "<ul>\n",
              "<li>In game 1, the game could have been played with as few as 4 red, 2 green, and 6 blue cubes. If any color had even one fewer cube, the game would have been impossible.</li>\n",
              "<li>Game 2 could have been played with a minimum of 1 red, 3 green, and 4 blue cubes.<li>\n",
              "<li>Game 3 must have been played with at least 20 red, 13 green, and 6 blue cubes.</li>\n",
              "<li>Game 4 required at least 14 red, 3 green, and 15 blue cubes.</li>\n",
              "<li>Game 5 needed no fewer than 6 red, 3 green, and 2 blue cubes in the bag.</li>\n",
              "</li></li></ul>\n",
              "<p>The <em>power</em> of a set of cubes is equal to the numbers of red, green, and blue cubes multiplied together. The power of the minimum set of cubes in game 1 is <code>48</code>. In games 2-5 it was <code>12</code>, <code>1560</code>, <code>630</code>, and <code>36</code>, respectively. Adding up these five powers produces the sum <code><em>2286</em></code>.</p>\n",
              "<p>For each game, find the minimum set of cubes that must have been present. <em>What is the sum of the power of these sets?</em></p>\n",
              "</article>"
            ]
          },
          "metadata": {}
        }
      ]
    },
    {
      "cell_type": "code",
      "source": [
        "# @title Solution B\n",
        "\n",
        "def solution_b() -> int:\n",
        "  import regex as re\n",
        "  total = 0\n",
        "  for game in puzzle.input_data.splitlines():\n",
        "    max_blue = 0\n",
        "    max_green = 0\n",
        "    max_red = 0\n",
        "    for round in game.split(':')[1].split(';'):\n",
        "      blue = next((int(m) for m in re.findall(re.compile('(\\d+) blue'), round)), 0)\n",
        "      green = next((int(m) for m in re.findall(re.compile('(\\d+) green'), round)), 0)\n",
        "      red = next((int(m) for m in re.findall(re.compile('(\\d+) red'), round)), 0)\n",
        "      if blue > max_blue:\n",
        "        max_blue = blue\n",
        "      if green > max_green:\n",
        "        max_green = green\n",
        "      if red > max_red:\n",
        "        max_red = red\n",
        "    power = max_blue * max_green * max_red\n",
        "    total += power\n",
        "  print(\"answer: \", total)\n",
        "  return total\n",
        "\n",
        "solution_b()"
      ],
      "metadata": {
        "colab": {
          "base_uri": "https://localhost:8080/"
        },
        "outputId": "9314b902-186b-43c3-c305-096266384d29",
        "id": "g_1Ypxar3L3e"
      },
      "execution_count": 17,
      "outputs": [
        {
          "output_type": "stream",
          "name": "stdout",
          "text": [
            "answer:  68638\n"
          ]
        },
        {
          "output_type": "execute_result",
          "data": {
            "text/plain": [
              "68638"
            ]
          },
          "metadata": {},
          "execution_count": 17
        }
      ]
    },
    {
      "cell_type": "code",
      "source": [
        "# @title Submit B\n",
        "puzzle.answer_b = solution_b()"
      ],
      "metadata": {
        "id": "zYMulN5J3WQP",
        "colab": {
          "base_uri": "https://localhost:8080/"
        },
        "outputId": "34a7c54d-00d7-46af-fb1c-52565a7ea275"
      },
      "execution_count": 18,
      "outputs": [
        {
          "output_type": "stream",
          "name": "stdout",
          "text": [
            "answer:  68638\n",
            "\u001b[32mThat's the right answer!  You are one gold star closer to restoring snow operations.You have completed Day 2! You can [Shareon\n",
            "  Twitter\n",
            "Mastodon] this victory or [Return to Your Advent Calendar].\u001b[0m\n"
          ]
        }
      ]
    },
    {
      "cell_type": "code",
      "source": [],
      "metadata": {
        "id": "VM_C_0KgFJRF"
      },
      "execution_count": null,
      "outputs": []
    }
  ]
}