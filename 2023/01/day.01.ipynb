{
  "nbformat": 4,
  "nbformat_minor": 0,
  "metadata": {
    "colab": {
      "provenance": [],
      "authorship_tag": "ABX9TyNlxVnJYe8omMKSlz1ycuQX",
      "include_colab_link": true
    },
    "kernelspec": {
      "name": "python3",
      "display_name": "Python 3"
    },
    "language_info": {
      "name": "python"
    }
  },
  "cells": [
    {
      "cell_type": "markdown",
      "metadata": {
        "id": "view-in-github",
        "colab_type": "text"
      },
      "source": [
        "<a href=\"https://colab.research.google.com/github/jtcressy/adventofcode/blob/main/2023/01/day.01.ipynb\" target=\"_parent\"><img src=\"https://colab.research.google.com/assets/colab-badge.svg\" alt=\"Open In Colab\"/></a>"
      ]
    },
    {
      "cell_type": "code",
      "source": [
        "!pip install 'advent-of-code-data[nb]'\n",
        "import os\n",
        "from google.colab import userdata\n",
        "os.environ[\"AOC_SESSION\"] = userdata.get('aoc_session')\n",
        "from aocd import get_data\n",
        "import pandas as pd\n",
        "%load_ext google.colab.data_table"
      ],
      "metadata": {
        "id": "JJd42gGCFnrp"
      },
      "execution_count": null,
      "outputs": []
    },
    {
      "cell_type": "markdown",
      "source": [
        "# Day 1: Trebuchet?!\n",
        "\n",
        "## Description\n",
        "\n",
        "### Part One\n",
        "\n",
        "Something is wrong with global snow production, and you've been selected to take a look. The Elves have even given you a map; on it, they've used stars to mark the top fifty locations that are likely to be having problems.\n",
        "\n",
        "You've been doing this long enough to know that to restore snow operations, you need to check all fifty stars by December 25th.\n",
        "\n",
        "Collect stars by solving puzzles. Two puzzles will be made available on each day in the Advent calendar; the second puzzle is unlocked when you complete the first. Each puzzle grants one star. Good luck!\n",
        "\n",
        "You try to ask why they can't just use a weather machine (\"not powerful enough\") and where they're even sending you (\"the sky\") and why your map looks mostly blank (\"you sure ask a lot of questions\") and hang on did you just say the sky (\"of course, where do you think snow comes from\") when you realize that the Elves are already loading you into a trebuchet (\"please hold still, we need to strap you in\").\n",
        "\n",
        "As they're making the final adjustments, they discover that their calibration document (your puzzle input) has been amended by a very young Elf who was apparently just excited to show off her art skills. Consequently, the Elves are having trouble reading the values on the document.\n",
        "\n",
        "The newly-improved calibration document consists of lines of text; each line originally contained a specific calibration value that the Elves now need to recover. On each line, the calibration value can be found by combining the first digit and the last digit (in that order) to form a single two-digit number.\n",
        "\n",
        "For example:\n",
        "\n",
        "```\n",
        "1abc2\n",
        "pqr3stu8vwx\n",
        "a1b2c3d4e5f\n",
        "treb7uchet\n",
        "```\n",
        "In this example, the calibration values of these four lines are 12, 38, 15, and 77. Adding these together produces 142.\n",
        "\n",
        "Consider your entire calibration document. What is the sum of all of the calibration values?"
      ],
      "metadata": {
        "id": "y6NNgmN1JnXk"
      }
    },
    {
      "cell_type": "code",
      "source": [
        "# using aocd to get custom problem data (https://pypi.org/project/advent-of-code-data/)\n",
        "data = get_data(day=1,year=2023)\n",
        "\n",
        "import regex as re\n",
        "\n",
        "result = sum([int(i) for i in [d[0] + d[-1] for d in [''.join(re.findall(re.compile('([0-9])'), s)) for s in ''.join(data).split('\\n')]]])\n",
        "print(result)"
      ],
      "metadata": {
        "colab": {
          "base_uri": "https://localhost:8080/"
        },
        "id": "VfMYSjEuHz_d",
        "outputId": "77116742-570a-4e23-b714-75b630cb1612"
      },
      "execution_count": 157,
      "outputs": [
        {
          "output_type": "stream",
          "name": "stdout",
          "text": [
            "54450\n"
          ]
        }
      ]
    },
    {
      "cell_type": "code",
      "source": [
        "from aocd import submit\n",
        "print(result)\n",
        "submit(result, day=1, year=2023, part=\"a\")"
      ],
      "metadata": {
        "colab": {
          "base_uri": "https://localhost:8080/"
        },
        "id": "8Dqx0kF6J5bT",
        "outputId": "e340341b-2f11-45c8-85b5-e80eac7261e7"
      },
      "execution_count": 153,
      "outputs": [
        {
          "output_type": "stream",
          "name": "stdout",
          "text": [
            "54450\n",
            "\u001b[32mThat's the right answer!  You are one gold star closer to restoring snow operations. [Continue to Part Two]\u001b[0m\n"
          ]
        },
        {
          "output_type": "execute_result",
          "data": {
            "text/plain": [
              "<urllib3.response.HTTPResponse at 0x7826d65b5ed0>"
            ]
          },
          "metadata": {},
          "execution_count": 153
        }
      ]
    },
    {
      "cell_type": "markdown",
      "source": [
        "### Part Two\n",
        "\n",
        "Your calculation isn't quite right. It looks like some of the digits are actually spelled out with letters: one, two, three, four, five, six, seven, eight, and nine also count as valid \"digits\".\n",
        "\n",
        "Equipped with this new information, you now need to find the real first and last digit on each line. For example:\n",
        "\n",
        "```\n",
        "two1nine\n",
        "eightwothree\n",
        "abcone2threexyz\n",
        "xtwone3four\n",
        "4nineeightseven2\n",
        "zoneight234\n",
        "7pqrstsixteen\n",
        "```\n",
        "In this example, the calibration values are `29`, `83`, `13`, `24`, `42`, `14`, and `76`. Adding these together produces `281`.\n",
        "\n",
        "What is the sum of all of the calibration values?"
      ],
      "metadata": {
        "id": "z7nBVjyzjaP4"
      }
    },
    {
      "cell_type": "code",
      "source": [
        "# using aocd to get custom problem data (https://pypi.org/project/advent-of-code-data/)\n",
        "data = get_data(day=1,year=2023)\n",
        "\n",
        "import regex as re\n",
        "\n",
        "numberwords = {\n",
        "    'one': '1',\n",
        "    'two': '2',\n",
        "    'three': '3',\n",
        "    'four': '4',\n",
        "    'five': '5',\n",
        "    'six': '6',\n",
        "    'seven': '7',\n",
        "    'eight': '8',\n",
        "    'nine': '9',\n",
        "    'zero': '0'\n",
        "}\n",
        "result = sum([int(i) for i in [d[0] + d[-1] for d in [''.join([numberwords[x] if x in numberwords.keys() else x for x in re.findall(re.compile(r'([0-9]|' + '|'.join(numberwords.keys()) + r')'), s, overlapped=True)]) for s in ''.join(data).split('\\n')]]])\n",
        "print(result)"
      ],
      "metadata": {
        "colab": {
          "base_uri": "https://localhost:8080/"
        },
        "id": "YAJhCz77kd7s",
        "outputId": "52b34f79-2eb0-48d6-a1d8-6d62cd5e4d10"
      },
      "execution_count": 158,
      "outputs": [
        {
          "output_type": "stream",
          "name": "stdout",
          "text": [
            "54265\n"
          ]
        }
      ]
    },
    {
      "cell_type": "code",
      "source": [
        "from aocd import submit\n",
        "print(result)\n",
        "submit(result, day=1, year=2023, part=\"b\")"
      ],
      "metadata": {
        "colab": {
          "base_uri": "https://localhost:8080/"
        },
        "id": "ahxWvyuEkv1_",
        "outputId": "1ec8b130-ab58-422e-9eeb-630395aabfbb"
      },
      "execution_count": 159,
      "outputs": [
        {
          "output_type": "stream",
          "name": "stdout",
          "text": [
            "54265\n",
            "\u001b[32mThat's the right answer!  You are one gold star closer to restoring snow operations.You have completed Day 1! You can [Shareon\n",
            "  Twitter\n",
            "Mastodon] this victory or [Return to Your Advent Calendar].\u001b[0m\n"
          ]
        },
        {
          "output_type": "execute_result",
          "data": {
            "text/plain": [
              "<urllib3.response.HTTPResponse at 0x7826d630d780>"
            ]
          },
          "metadata": {},
          "execution_count": 159
        }
      ]
    },
    {
      "cell_type": "code",
      "source": [],
      "metadata": {
        "id": "0RO4UClnliun"
      },
      "execution_count": null,
      "outputs": []
    }
  ]
}